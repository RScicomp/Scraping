{
 "cells": [
  {
   "cell_type": "code",
   "execution_count": 11,
   "metadata": {},
   "outputs": [],
   "source": [
    "import requests\n",
    "from bs4 import BeautifulSoup"
   ]
  },
  {
   "cell_type": "code",
   "execution_count": null,
   "metadata": {},
   "outputs": [],
   "source": []
  },
  {
   "cell_type": "code",
   "execution_count": 12,
   "metadata": {},
   "outputs": [],
   "source": [
    "url = u'https://twitter.com/BillGates'\n",
    "r = requests.get(url)\n",
    "soup = BeautifulSoup(r.text,'html.parser')"
   ]
  },
  {
   "cell_type": "code",
   "execution_count": 18,
   "metadata": {},
   "outputs": [
    {
     "data": {
      "text/plain": [
       "'The more I’ve learned about Alzheimer’s disease, the more I’ve come to admire the volunteers who participate in clinical trials, and their caregivers too. Here’s a way you can help fight Alzheimer’s: https://gatesnot.es/2K4m4Y8\\xa0pic.twitter.com/rS27wglMOJ\\nBetter tools for collecting and sharing data will help community health workers protect families in the poorest parts of the world.https://b-gat.es/2Q0i5zw\\xa0\\nExpanding the diversity of therapies in the pipeline and more efficiently recruiting patients for clinical trials will increase our odds of discovering a breakthrough. I’m hopeful it will lead to an intervention that reduces the impact of Alzheimer’s.https://twitter.com/alzassociation/status/1191355165120585728\\xa0…\\nOne of the many awful things about watching someone you love struggle with Alzheimer’s is the feeling of helplessness. You keep thinking that there must be something more you can do. Here\\'s one option.https://b-gat.es/2NJ8evt\\xa0\\nWe have cut the number of child deaths in half over the last 20 years. New tools like these precision maps from \\n@IHME_UW will help us cut child mortality in half again by 2030.https://b-gat.es/2oya4qe\\xa0\\nBuildings are one of the five areas where we need a lot of innovation if we’re going to avoid a climate disaster. I wrote about one company with a particularly clever approach.https://b-gat.es/31XZ9Ut\\xa0\\nA lot of work remains, but it’s exciting to see positive data on a drug candidate that may alter the course of Alzheimer’s disease.https://b-gat.es/2NnNysJ\\xa0\\nI always like to try out a new TV show or two when I’m on the road. What should I watch next? I set up an Ask on @Likewise to collect your recommendations.https://b-gat.es/31T91yJ\\xa0\\n\"This is a solvable problem.\" @CarbonCure (which I’ve helped fund through @btenergy Ventures) has developed an innovative way to reduce cement\\'s carbon footprint: https://b-gat.es/2PprBfs\\xa0pic.twitter.com/zaqUc3In6R\\nOne of the best parts of my job is getting to work with some of the world’s most brilliant minds on seemingly intractable problems. Here’s how we’re trying to tackle one of the defining technical challenges of our time.https://b-gat.es/2MPC4z1\\xa0\\nThis is one of the most important topics in medicine today: how can we make data more readily available for researchers to look for patterns and identify new pathways for treatment.https://b-gat.es/2BKvG5T\\xa0\\nThe world has made incredible progress toward the goal to #endpolio thanks to partners like @MohamedBinZayed and the UAE.https://twitter.com/MohamedBinZayed/status/1187055955890057216\\xa0…\\nMelinda and I feel pressure to make every dollar and every day count, which is why we say no to a lot more opportunities than we say yes to. Working with partners around the world to #EndPolio has been a fight worth every dollar.https://b-gat.es/2N6gd5l\\xa0\\nTackling the world’s toughest health challenges requires the best that science has to offer. Thank you to @NIHDirector and @WHOAFRO for your partnership.https://b-gat.es/33XfQks\\xa0\\nCongrats to the 2019 winners of the @NobelPrize in chemistry! Few inventions have changed our lives as much as the battery, and the quest to build a better one is an important step in the fight against climate change.https://twitter.com/NobelPrize/status/1181869198764580864\\xa0…\\nMalnutrition is the single greatest health inequity in the world. In its 2019 State of the World’s Children report, @UNICEF takes a critical look at how we can help everyone reach their full potential by improving access to nutrition.https://twitter.com/UNICEF/status/1183896529741996032\\xa0…\\nThe world’s poorest people often rely on farming both to feed their families and to earn an income. They will be among the first to face the effects of climate change. I’m excited about innovations aimed at addressing this problem: https://b-gat.es/32wONvL\\xa0pic.twitter.com/1QJg3gyJZY\\nCongrats to Esther Duflo, Abhijit Banerjee, and Michael Kremer for winning this year’s @NobelPrize in economics. I’ve learned a lot from their pioneering work to better understand the complexities of the lives of the world’s poorest people.https://b-gat.es/2J6VP2G\\xa0\\nThe world is facing a crisis at the dinner table, one that climate change will only worsen. I’m optimistic about the progress being made by @RIPEproject on a much-needed breakthrough.https://b-gat.es/35O451u\\xa0\\nThe odds of dying of AIDS in South Africa are less than half what they were at the peak. That progress wouldn’t have been possible without the @GlobalFund and other global health organizations. Even more progress is possible if we keep up the fight: https://b-gat.es/35ANIFj\\xa0pic.twitter.com/f2gJwuIb9H'"
      ]
     },
     "execution_count": 18,
     "metadata": {},
     "output_type": "execute_result"
    }
   ],
   "source": [
    "bio = soup.find('p',class_='ProfileHeaderCard-bio').text\n",
    "tweets = [p.text for p in soup.findAll('p',class_='tweet-text')]\n",
    "string = \"\\n\".join(tweets)\n"
   ]
  },
  {
   "cell_type": "code",
   "execution_count": 5,
   "metadata": {},
   "outputs": [],
   "source": [
    "url = u'https://twitter.com/BillGates/likes'\n",
    "r = requests.get(url)\n",
    "souplikes = BeautifulSoup(r.text,'html.parser')"
   ]
  }
 ],
 "metadata": {
  "kernelspec": {
   "display_name": "Python 3",
   "language": "python",
   "name": "python3"
  },
  "language_info": {
   "codemirror_mode": {
    "name": "ipython",
    "version": 3
   },
   "file_extension": ".py",
   "mimetype": "text/x-python",
   "name": "python",
   "nbconvert_exporter": "python",
   "pygments_lexer": "ipython3",
   "version": "3.6.8"
  }
 },
 "nbformat": 4,
 "nbformat_minor": 2
}
